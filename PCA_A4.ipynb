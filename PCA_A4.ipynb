{
 "cells": [
  {
   "cell_type": "code",
   "execution_count": 1,
   "id": "c2df8918",
   "metadata": {
    "collapsed": true
   },
   "outputs": [
    {
     "name": "stdout",
     "output_type": "stream",
     "text": [
      "Requirement already satisfied: pandas in c:\\users\\sampreeth\\anaconda3\\lib\\site-packages (2.0.3)\n",
      "Requirement already satisfied: numpy in c:\\users\\sampreeth\\anaconda3\\lib\\site-packages (1.24.3)\n",
      "Requirement already satisfied: scikit-learn in c:\\users\\sampreeth\\anaconda3\\lib\\site-packages (1.3.0)\n",
      "Collecting factor_analyzer\n",
      "  Downloading factor_analyzer-0.5.1.tar.gz (42 kB)\n",
      "     ---------------------------------------- 0.0/42.8 kB ? eta -:--:--\n",
      "     ------------------ ------------------- 20.5/42.8 kB 330.3 kB/s eta 0:00:01\n",
      "     -------------------------------------- 42.8/42.8 kB 417.7 kB/s eta 0:00:00\n",
      "  Installing build dependencies: started\n",
      "  Installing build dependencies: finished with status 'done'\n",
      "  Getting requirements to build wheel: started\n",
      "  Getting requirements to build wheel: finished with status 'done'\n",
      "  Preparing metadata (pyproject.toml): started\n",
      "  Preparing metadata (pyproject.toml): finished with status 'done'\n",
      "Requirement already satisfied: python-dateutil>=2.8.2 in c:\\users\\sampreeth\\anaconda3\\lib\\site-packages (from pandas) (2.8.2)\n",
      "Requirement already satisfied: pytz>=2020.1 in c:\\users\\sampreeth\\anaconda3\\lib\\site-packages (from pandas) (2023.3.post1)\n",
      "Requirement already satisfied: tzdata>=2022.1 in c:\\users\\sampreeth\\anaconda3\\lib\\site-packages (from pandas) (2023.3)\n",
      "Requirement already satisfied: scipy>=1.5.0 in c:\\users\\sampreeth\\anaconda3\\lib\\site-packages (from scikit-learn) (1.11.1)\n",
      "Requirement already satisfied: joblib>=1.1.1 in c:\\users\\sampreeth\\anaconda3\\lib\\site-packages (from scikit-learn) (1.2.0)\n",
      "Requirement already satisfied: threadpoolctl>=2.0.0 in c:\\users\\sampreeth\\anaconda3\\lib\\site-packages (from scikit-learn) (2.2.0)\n",
      "Requirement already satisfied: six>=1.5 in c:\\users\\sampreeth\\anaconda3\\lib\\site-packages (from python-dateutil>=2.8.2->pandas) (1.16.0)\n",
      "Building wheels for collected packages: factor_analyzer\n",
      "  Building wheel for factor_analyzer (pyproject.toml): started\n",
      "  Building wheel for factor_analyzer (pyproject.toml): finished with status 'done'\n",
      "  Created wheel for factor_analyzer: filename=factor_analyzer-0.5.1-py2.py3-none-any.whl size=42623 sha256=4dba9a7355a4ddeaa8c422affcfd404265de249a179210d89578771246843fe5\n",
      "  Stored in directory: c:\\users\\sampreeth\\appdata\\local\\pip\\cache\\wheels\\fa\\f7\\53\\a55a8a56668a6fe0199e0e02b6e0ae3007ec35cdf6e4c25df7\n",
      "Successfully built factor_analyzer\n",
      "Installing collected packages: factor_analyzer\n",
      "Successfully installed factor_analyzer-0.5.1\n",
      "Note: you may need to restart the kernel to use updated packages.\n"
     ]
    }
   ],
   "source": [
    "pip install pandas numpy scikit-learn factor_analyzer\n"
   ]
  },
  {
   "cell_type": "code",
   "execution_count": 14,
   "id": "d17816d0",
   "metadata": {},
   "outputs": [],
   "source": [
    "import os\n",
    "import pandas as pd\n",
    "import numpy as np\n",
    "import matplotlib.pyplot as plt\n",
    "from sklearn.decomposition import PCA\n",
    "from factor_analyzer import FactorAnalyzer"
   ]
  },
  {
   "cell_type": "code",
   "execution_count": 3,
   "id": "ec6524b4",
   "metadata": {},
   "outputs": [],
   "source": [
    "# Function to auto-install and load packages\n",
    "def install_and_load(packages):\n",
    "    import subprocess\n",
    "    import sys\n",
    "    for package in packages:\n",
    "        try:\n",
    "            __import__(package)\n",
    "        except ImportError:\n",
    "            subprocess.check_call([sys.executable, \"-m\", \"pip\", \"install\", package])"
   ]
  },
  {
   "cell_type": "code",
   "execution_count": 4,
   "id": "068074ea",
   "metadata": {},
   "outputs": [],
   "source": [
    "# List of packages to install and load\n",
    "packages = ['pandas', 'numpy', 'sklearn', 'factor_analyzer']\n",
    "install_and_load(packages)"
   ]
  },
  {
   "cell_type": "code",
   "execution_count": 5,
   "id": "6de3c66b",
   "metadata": {},
   "outputs": [],
   "source": [
    "os.chdir('D:\\\\R Studio')"
   ]
  },
  {
   "cell_type": "code",
   "execution_count": 6,
   "id": "f72be853",
   "metadata": {},
   "outputs": [
    {
     "name": "stdout",
     "output_type": "stream",
     "text": [
      "(70, 50)\n",
      "Index(['City', 'Sex', 'Age', 'Occupation', 'Monthly Household Income',\n",
      "       'Income', 'Planning to Buy a new house', 'Time Frame',\n",
      "       'Reasons for buying a house', 'what type of House', 'Number of rooms',\n",
      "       'Size of House', 'Budget', 'Finished/Semi Finished',\n",
      "       'Influence Decision', 'Maintainance', 'EMI', '1.Proximity to city',\n",
      "       '2.Proximity to schools', '3. Proximity to transport',\n",
      "       '4. Proximity to work place', '5. Proximity to shopping',\n",
      "       '1. Gym/Pool/Sports facility', '2. Parking space', '3.Power back-up',\n",
      "       '4.Water supply', '5.Security', '1. Exterior look ', '2. Unit size',\n",
      "       '3. Interior design and branded components',\n",
      "       '4. Layout plan (Integrated etc.)', '5. View from apartment',\n",
      "       '1. Price', '2. Booking amount', '3. Equated Monthly Instalment (EMI)',\n",
      "       '4. Maintenance charges', '5. Availability of loan',\n",
      "       '1. Builder reputation', '2. Appreciation potential',\n",
      "       '3. Profile of neighbourhood', '4. Availability of domestic help',\n",
      "       'Time', 'Size', 'Budgets', 'Maintainances', 'EMI.1', 'ages', 'sex',\n",
      "       'Finished/Semi Finished.1', 'Influence Decision.1'],\n",
      "      dtype='object')\n",
      "        City Sex    Age      Occupation Monthly Household Income  Income  \\\n",
      "0  Bangalore   M  26-35  Private Sector         85,001 to105,000   95000   \n",
      "1  Bangalore   M  46-60  Government/PSU         45,001 to 65,000   55000   \n",
      "2  Bangalore   F  46-60  Government/PSU         25,001 to 45,000   35000   \n",
      "3  Bangalore   M  36-45  Private Sector                  >125000  200000   \n",
      "4  Bangalore   M  26-35   Self Employed         85,001 to105,000   95000   \n",
      "\n",
      "  Planning to Buy a new house Time Frame Reasons for buying a house  \\\n",
      "0                         Yes  6M to 1Yr                   Residing   \n",
      "1                         Yes  6M to 1Yr                 Investment   \n",
      "2                         Yes  <6 Months              Rental Income   \n",
      "3                         Yes  <6 Months                 Investment   \n",
      "4                         Yes     1-2 Yr                   Residing   \n",
      "\n",
      "  what type of House  ... 4. Availability of domestic help Time  Size Budgets  \\\n",
      "0          Apartment  ...                                1    9  1200    72.5   \n",
      "1          Apartment  ...                                2    9   800    32.5   \n",
      "2          Apartment  ...                                4    3   400    12.5   \n",
      "3          Apartment  ...                                5    3  1600   102.5   \n",
      "4          Apartment  ...                                3   18   800    52.5   \n",
      "\n",
      "  Maintainances  EMI.1  ages  sex  Finished/Semi Finished.1  \\\n",
      "0         30000  42500  30.5    M             Semifurnished   \n",
      "1           120  27500  53.0    M             Semifurnished   \n",
      "2         10000  10000  53.0    F             Semifurnished   \n",
      "3         70000  80000  40.5    M                 Furnished   \n",
      "4         30000  42500  30.5    M             Semifurnished   \n",
      "\n",
      "   Influence Decision.1  \n",
      "0           Site visits  \n",
      "1             Newspaper  \n",
      "2              Hoarding  \n",
      "3   Electronic/Internet  \n",
      "4   Electronic/Internet  \n",
      "\n",
      "[5 rows x 50 columns]\n",
      "<class 'pandas.core.frame.DataFrame'>\n",
      "RangeIndex: 70 entries, 0 to 69\n",
      "Data columns (total 50 columns):\n",
      " #   Column                                     Non-Null Count  Dtype  \n",
      "---  ------                                     --------------  -----  \n",
      " 0   City                                       70 non-null     object \n",
      " 1   Sex                                        70 non-null     object \n",
      " 2   Age                                        70 non-null     object \n",
      " 3   Occupation                                 70 non-null     object \n",
      " 4   Monthly Household Income                   70 non-null     object \n",
      " 5   Income                                     70 non-null     int64  \n",
      " 6   Planning to Buy a new house                70 non-null     object \n",
      " 7   Time Frame                                 70 non-null     object \n",
      " 8   Reasons for buying a house                 70 non-null     object \n",
      " 9   what type of House                         70 non-null     object \n",
      " 10  Number of rooms                            70 non-null     object \n",
      " 11  Size of House                              70 non-null     object \n",
      " 12  Budget                                     70 non-null     object \n",
      " 13  Finished/Semi Finished                     70 non-null     object \n",
      " 14  Influence Decision                         70 non-null     object \n",
      " 15  Maintainance                               70 non-null     object \n",
      " 16  EMI                                        70 non-null     object \n",
      " 17  1.Proximity to city                        70 non-null     int64  \n",
      " 18  2.Proximity to schools                     70 non-null     int64  \n",
      " 19  3. Proximity to transport                  70 non-null     int64  \n",
      " 20  4. Proximity to work place                 70 non-null     int64  \n",
      " 21  5. Proximity to shopping                   70 non-null     int64  \n",
      " 22  1. Gym/Pool/Sports facility                70 non-null     int64  \n",
      " 23  2. Parking space                           70 non-null     int64  \n",
      " 24  3.Power back-up                            70 non-null     int64  \n",
      " 25  4.Water supply                             70 non-null     int64  \n",
      " 26  5.Security                                 70 non-null     int64  \n",
      " 27  1. Exterior look                           70 non-null     int64  \n",
      " 28  2. Unit size                               70 non-null     int64  \n",
      " 29  3. Interior design and branded components  70 non-null     int64  \n",
      " 30  4. Layout plan (Integrated etc.)           70 non-null     int64  \n",
      " 31  5. View from apartment                     70 non-null     int64  \n",
      " 32  1. Price                                   70 non-null     int64  \n",
      " 33  2. Booking amount                          70 non-null     int64  \n",
      " 34  3. Equated Monthly Instalment (EMI)        70 non-null     int64  \n",
      " 35  4. Maintenance charges                     70 non-null     int64  \n",
      " 36  5. Availability of loan                    70 non-null     int64  \n",
      " 37  1. Builder reputation                      70 non-null     int64  \n",
      " 38  2. Appreciation potential                  70 non-null     int64  \n",
      " 39  3. Profile of neighbourhood                70 non-null     int64  \n",
      " 40  4. Availability of domestic help           70 non-null     int64  \n",
      " 41  Time                                       70 non-null     int64  \n",
      " 42  Size                                       70 non-null     int64  \n",
      " 43  Budgets                                    70 non-null     float64\n",
      " 44  Maintainances                              70 non-null     int64  \n",
      " 45  EMI.1                                      70 non-null     int64  \n",
      " 46  ages                                       70 non-null     float64\n",
      " 47  sex                                        70 non-null     object \n",
      " 48  Finished/Semi Finished.1                   70 non-null     object \n",
      " 49  Influence Decision.1                       70 non-null     object \n",
      "dtypes: float64(2), int64(29), object(19)\n",
      "memory usage: 27.5+ KB\n",
      "None\n"
     ]
    }
   ],
   "source": [
    "# Load the survey data\n",
    "survey_df = pd.read_csv('Survey.csv')\n",
    "print(survey_df.shape)  # Dimensions of the dataframe\n",
    "print(survey_df.columns)  # Column names\n",
    "print(survey_df.head())  # First few rows\n",
    "print(survey_df.info())  # Structure of the dataframe"
   ]
  },
  {
   "cell_type": "code",
   "execution_count": 7,
   "id": "7014b090",
   "metadata": {},
   "outputs": [
    {
     "name": "stdout",
     "output_type": "stream",
     "text": [
      "0\n"
     ]
    }
   ],
   "source": [
    "print(survey_df.isna().sum().sum())  # Total number of missing values"
   ]
  },
  {
   "cell_type": "code",
   "execution_count": 8,
   "id": "2fe91b6c",
   "metadata": {},
   "outputs": [
    {
     "name": "stdout",
     "output_type": "stream",
     "text": [
      "(70, 27)\n",
      "<class 'pandas.core.frame.DataFrame'>\n",
      "RangeIndex: 70 entries, 0 to 69\n",
      "Data columns (total 27 columns):\n",
      " #   Column                                     Non-Null Count  Dtype  \n",
      "---  ------                                     --------------  -----  \n",
      " 0   3. Proximity to transport                  70 non-null     int64  \n",
      " 1   4. Proximity to work place                 70 non-null     int64  \n",
      " 2   5. Proximity to shopping                   70 non-null     int64  \n",
      " 3   1. Gym/Pool/Sports facility                70 non-null     int64  \n",
      " 4   2. Parking space                           70 non-null     int64  \n",
      " 5   3.Power back-up                            70 non-null     int64  \n",
      " 6   4.Water supply                             70 non-null     int64  \n",
      " 7   5.Security                                 70 non-null     int64  \n",
      " 8   1. Exterior look                           70 non-null     int64  \n",
      " 9   2. Unit size                               70 non-null     int64  \n",
      " 10  3. Interior design and branded components  70 non-null     int64  \n",
      " 11  4. Layout plan (Integrated etc.)           70 non-null     int64  \n",
      " 12  5. View from apartment                     70 non-null     int64  \n",
      " 13  1. Price                                   70 non-null     int64  \n",
      " 14  2. Booking amount                          70 non-null     int64  \n",
      " 15  3. Equated Monthly Instalment (EMI)        70 non-null     int64  \n",
      " 16  4. Maintenance charges                     70 non-null     int64  \n",
      " 17  5. Availability of loan                    70 non-null     int64  \n",
      " 18  1. Builder reputation                      70 non-null     int64  \n",
      " 19  2. Appreciation potential                  70 non-null     int64  \n",
      " 20  3. Profile of neighbourhood                70 non-null     int64  \n",
      " 21  4. Availability of domestic help           70 non-null     int64  \n",
      " 22  Time                                       70 non-null     int64  \n",
      " 23  Size                                       70 non-null     int64  \n",
      " 24  Budgets                                    70 non-null     float64\n",
      " 25  Maintainances                              70 non-null     int64  \n",
      " 26  EMI.1                                      70 non-null     int64  \n",
      "dtypes: float64(1), int64(26)\n",
      "memory usage: 14.9 KB\n",
      "None\n"
     ]
    }
   ],
   "source": [
    "# Select the relevant subset of the dataframe\n",
    "sur_int = survey_df.iloc[:, 19:46]\n",
    "print(sur_int.shape)\n",
    "print(sur_int.info())"
   ]
  },
  {
   "cell_type": "code",
   "execution_count": 11,
   "id": "24b7b0c7",
   "metadata": {
    "scrolled": true
   },
   "outputs": [],
   "source": [
    "# Perform PCA\n",
    "pca = PCA(n_components=5)\n",
    "pca_result = pca.fit_transform(sur_int)\n"
   ]
  },
  {
   "cell_type": "code",
   "execution_count": 12,
   "id": "36be37f9",
   "metadata": {},
   "outputs": [
    {
     "name": "stdout",
     "output_type": "stream",
     "text": [
      "[9.27394295e-01 7.25413292e-02 6.42132668e-05 1.32931069e-07\n",
      " 1.98047817e-08]\n"
     ]
    }
   ],
   "source": [
    "# Display the explained variance by each principal component\n",
    "print(pca.explained_variance_ratio_)"
   ]
  },
  {
   "cell_type": "code",
   "execution_count": 15,
   "id": "9643d16a",
   "metadata": {},
   "outputs": [
    {
     "data": {
      "image/png": "[encoded data removed]",
      "text/plain": [
       "<Figure size 1000x700 with 1 Axes>"
      ]
     },
     "metadata": {},
     "output_type": "display_data"
    }
   ],
   "source": [
    "# Biplot for PCA\n",
    "plt.figure(figsize=(10, 7))\n",
    "plt.scatter(pca_result[:, 0], pca_result[:, 1], edgecolors='k', c='r')\n",
    "plt.xlabel('PC1')\n",
    "plt.ylabel('PC2')\n",
    "plt.title('PCA Biplot')\n",
    "plt.grid(True)\n",
    "plt.show()"
   ]
  }
 ],
 "metadata": {
  "kernelspec": {
   "display_name": "Python 3 (ipykernel)",
   "language": "python",
   "name": "python3"
  },
  "language_info": {
   "codemirror_mode": {
    "name": "ipython",
    "version": 3
   },
   "file_extension": ".py",
   "mimetype": "text/x-python",
   "name": "python",
   "nbconvert_exporter": "python",
   "pygments_lexer": "ipython3",
   "version": "3.11.5"
  }
 },
 "nbformat": 4,
 "nbformat_minor": 5
}
